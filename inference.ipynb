{
 "cells": [
  {
   "cell_type": "markdown",
   "id": "088f7ce9-a9ed-4365-8f62-20ea6b0e54d1",
   "metadata": {},
   "source": [
    "# Image processing"
   ]
  },
  {
   "cell_type": "code",
   "execution_count": 1,
   "id": "7f84cd71-8020-4a84-8cb7-739581a18103",
   "metadata": {},
   "outputs": [
    {
     "name": "stdout",
     "output_type": "stream",
     "text": [
      "(4800, 2987)\n"
     ]
    }
   ],
   "source": [
    "# 60m = 310 pixels\n",
    "# We want 60m = 60/0.3 = 200 pixels\n",
    "# Therefore we multiply the width and height by 200/310\n",
    "\n",
    "from PIL import Image\n",
    "image = Image.open('21-4-20.jpg')\n",
    "print(image.size) # Output: (400, 267)"
   ]
  },
  {
   "cell_type": "code",
   "execution_count": 2,
   "id": "f109f69a-c703-416e-8c2d-d0bb3faa2894",
   "metadata": {},
   "outputs": [
    {
     "data": {
      "text/plain": [
       "(3096.7741935483873, 1927.0967741935483)"
      ]
     },
     "execution_count": 2,
     "metadata": {},
     "output_type": "execute_result"
    }
   ],
   "source": [
    "width, height = image.size\n",
    "new_width, new_height = width * 200/310, height * 200/310\n",
    "new_width, new_height"
   ]
  },
  {
   "cell_type": "code",
   "execution_count": 3,
   "id": "2dd3a795-69c6-43a4-8372-9a8711982503",
   "metadata": {},
   "outputs": [],
   "source": [
    "image.thumbnail((new_width, new_height))"
   ]
  },
  {
   "cell_type": "code",
   "execution_count": 4,
   "id": "f5b2b93f-d05d-4766-b9c3-ea39831ec5a5",
   "metadata": {},
   "outputs": [
    {
     "name": "stdout",
     "output_type": "stream",
     "text": [
      "(3096, 1927)\n"
     ]
    }
   ],
   "source": [
    "image.save('21-4-20_resize.jpg')\n",
    "print(image.size)"
   ]
  },
  {
   "cell_type": "markdown",
   "id": "b8ab7093-8d1c-4fff-be70-d9c97c6fbdfa",
   "metadata": {
    "tags": []
   },
   "source": [
    "# Inference"
   ]
  },
  {
   "cell_type": "code",
   "execution_count": 5,
   "id": "b07b85d2-f2a5-4edd-8e40-bcc1c475c8a9",
   "metadata": {},
   "outputs": [
    {
     "name": "stderr",
     "output_type": "stream",
     "text": [
      "/vol/bitbucket/jrb21/anaconda3/envs/sodb/lib/python3.8/site-packages/tqdm/auto.py:22: TqdmWarning: IProgress not found. Please update jupyter and ipywidgets. See https://ipywidgets.readthedocs.io/en/stable/user_install.html\n",
      "  from .autonotebook import tqdm as notebook_tqdm\n"
     ]
    },
    {
     "name": "stdout",
     "output_type": "stream",
     "text": [
      "load checkpoint from local path: models-to-test/latest.pth\n",
      "Performing prediction on 60 number of slices.\n"
     ]
    }
   ],
   "source": [
    "from sahi.model import MmdetDetectionModel\n",
    "from sahi.predict import get_prediction, get_sliced_prediction, predict\n",
    "from sahi.utils.cv import visualize_object_predictions\n",
    "import numpy as np\n",
    "\n",
    "width, height = (400,400)\n",
    "\n",
    "detection_model = MmdetDetectionModel(\n",
    "    model_path= \"models-to-test/latest.pth\",\n",
    "    config_path= \"mmdet_configs/xview_tood/tood_crop_300_500_cls_cars_trucks_1e-3_new_pipe.py\",\n",
    "    device='cuda' # or 'cpu'\n",
    ")\n",
    "\n",
    "# test_img_path =  \"data/xview/train_images/1694.tif\"\n",
    "# test_img_path = \"warickshire_road_resample.jpg\"\n",
    "test_img_path = '21-4-20_resize.jpg'\n",
    "\n",
    "sliced_pred_result = get_sliced_prediction(\n",
    "    test_img_path,\n",
    "    detection_model, \n",
    "    slice_width=width, \n",
    "    slice_height=height\n",
    ")\n",
    "\n"
   ]
  },
  {
   "cell_type": "code",
   "execution_count": 6,
   "id": "de18f388-6b40-41d9-b9e6-cf58d03a8219",
   "metadata": {},
   "outputs": [
    {
     "data": {
      "text/plain": [
       "[ObjectPrediction<\n",
       "     bbox: BoundingBox: <(2722, 1679, 2740, 1695), w: 18, h: 16>,\n",
       "     mask: None,\n",
       "     score: PredictionScore: <value: 0.6828708052635193>,\n",
       "     category: Category: <id: 0, name: Small Car>>,\n",
       " ObjectPrediction<\n",
       "     bbox: BoundingBox: <(2873, 309, 2886, 325), w: 13, h: 16>,\n",
       "     mask: None,\n",
       "     score: PredictionScore: <value: 0.5320160388946533>,\n",
       "     category: Category: <id: 0, name: Small Car>>,\n",
       " ObjectPrediction<\n",
       "     bbox: BoundingBox: <(2860, 301, 2875, 320), w: 15, h: 19>,\n",
       "     mask: None,\n",
       "     score: PredictionScore: <value: 0.5179906487464905>,\n",
       "     category: Category: <id: 0, name: Small Car>>,\n",
       " ObjectPrediction<\n",
       "     bbox: BoundingBox: <(4, 796, 22, 811), w: 18, h: 15>,\n",
       "     mask: None,\n",
       "     score: PredictionScore: <value: 0.5040678381919861>,\n",
       "     category: Category: <id: 0, name: Small Car>>,\n",
       " ObjectPrediction<\n",
       "     bbox: BoundingBox: <(2891, 321, 2905, 340), w: 14, h: 19>,\n",
       "     mask: None,\n",
       "     score: PredictionScore: <value: 0.4995133578777313>,\n",
       "     category: Category: <id: 0, name: Small Car>>,\n",
       " ObjectPrediction<\n",
       "     bbox: BoundingBox: <(1019, 737, 1038, 750), w: 19, h: 13>,\n",
       "     mask: None,\n",
       "     score: PredictionScore: <value: 0.4872969388961792>,\n",
       "     category: Category: <id: 0, name: Small Car>>,\n",
       " ObjectPrediction<\n",
       "     bbox: BoundingBox: <(825, 715, 843, 727), w: 18, h: 12>,\n",
       "     mask: None,\n",
       "     score: PredictionScore: <value: 0.4410136640071869>,\n",
       "     category: Category: <id: 0, name: Small Car>>,\n",
       " ObjectPrediction<\n",
       "     bbox: BoundingBox: <(186, 580, 208, 591), w: 22, h: 11>,\n",
       "     mask: None,\n",
       "     score: PredictionScore: <value: 0.4327590763568878>,\n",
       "     category: Category: <id: 0, name: Small Car>>,\n",
       " ObjectPrediction<\n",
       "     bbox: BoundingBox: <(693, 680, 715, 693), w: 22, h: 13>,\n",
       "     mask: None,\n",
       "     score: PredictionScore: <value: 0.3437170684337616>,\n",
       "     category: Category: <id: 0, name: Small Car>>,\n",
       " ObjectPrediction<\n",
       "     bbox: BoundingBox: <(1021, 784, 1043, 797), w: 22, h: 13>,\n",
       "     mask: None,\n",
       "     score: PredictionScore: <value: 0.3266027569770813>,\n",
       "     category: Category: <id: 0, name: Small Car>>,\n",
       " ObjectPrediction<\n",
       "     bbox: BoundingBox: <(414, 671, 427, 678), w: 13, h: 7>,\n",
       "     mask: None,\n",
       "     score: PredictionScore: <value: 0.3106725513935089>,\n",
       "     category: Category: <id: 0, name: Small Car>>,\n",
       " ObjectPrediction<\n",
       "     bbox: BoundingBox: <(2922, 320, 2937, 326), w: 15, h: 6>,\n",
       "     mask: None,\n",
       "     score: PredictionScore: <value: 0.3075132369995117>,\n",
       "     category: Category: <id: 0, name: Small Car>>,\n",
       " ObjectPrediction<\n",
       "     bbox: BoundingBox: <(2574, 1560, 2628, 1603), w: 54, h: 43>,\n",
       "     mask: None,\n",
       "     score: PredictionScore: <value: 0.48790156841278076>,\n",
       "     category: Category: <id: 1, name: Bus>>,\n",
       " ObjectPrediction<\n",
       "     bbox: BoundingBox: <(2923, 301, 2942, 327), w: 19, h: 26>,\n",
       "     mask: None,\n",
       "     score: PredictionScore: <value: 0.4337669014930725>,\n",
       "     category: Category: <id: 1, name: Bus>>,\n",
       " ObjectPrediction<\n",
       "     bbox: BoundingBox: <(2923, 301, 2943, 327), w: 20, h: 26>,\n",
       "     mask: None,\n",
       "     score: PredictionScore: <value: 0.3065789043903351>,\n",
       "     category: Category: <id: 4, name: Truck>>,\n",
       " ObjectPrediction<\n",
       "     bbox: BoundingBox: <(2573, 1558, 2629, 1603), w: 56, h: 45>,\n",
       "     mask: None,\n",
       "     score: PredictionScore: <value: 0.44817134737968445>,\n",
       "     category: Category: <id: 6, name: Truck w/Box>>,\n",
       " ObjectPrediction<\n",
       "     bbox: BoundingBox: <(962, 776, 1037, 805), w: 75, h: 29>,\n",
       "     mask: None,\n",
       "     score: PredictionScore: <value: 0.430819034576416>,\n",
       "     category: Category: <id: 6, name: Truck w/Box>>]"
      ]
     },
     "execution_count": 6,
     "metadata": {},
     "output_type": "execute_result"
    }
   ],
   "source": [
    "sliced_pred_result.object_prediction_list"
   ]
  },
  {
   "cell_type": "code",
   "execution_count": 7,
   "id": "06950b16-6a9d-4a8f-9639-d469c11cc2fd",
   "metadata": {},
   "outputs": [
    {
     "data": {
      "text/plain": [
       "{'image': array([[[110,  93,  77],\n",
       "         [111,  94,  78],\n",
       "         [112,  95,  79],\n",
       "         ...,\n",
       "         [120, 102,  88],\n",
       "         [120, 102,  88],\n",
       "         [120, 102,  88]],\n",
       " \n",
       "        [[107,  90,  74],\n",
       "         [106,  89,  73],\n",
       "         [106,  89,  73],\n",
       "         ...,\n",
       "         [120, 102,  88],\n",
       "         [120, 102,  88],\n",
       "         [119, 101,  87]],\n",
       " \n",
       "        [[109,  92,  76],\n",
       "         [108,  91,  75],\n",
       "         [106,  89,  73],\n",
       "         ...,\n",
       "         [119, 101,  87],\n",
       "         [119, 101,  87],\n",
       "         [119, 101,  87]],\n",
       " \n",
       "        ...,\n",
       " \n",
       "        [[ 54,  66,  44],\n",
       "         [ 53,  67,  44],\n",
       "         [ 53,  67,  44],\n",
       "         ...,\n",
       "         [ 96, 100,  86],\n",
       "         [ 71,  77,  63],\n",
       "         [ 48,  56,  41]],\n",
       " \n",
       "        [[ 55,  67,  45],\n",
       "         [ 53,  67,  44],\n",
       "         [ 52,  66,  43],\n",
       "         ...,\n",
       "         [ 89,  93,  78],\n",
       "         [ 84,  91,  75],\n",
       "         [ 68,  77,  60]],\n",
       " \n",
       "        [[ 58,  70,  48],\n",
       "         [ 56,  70,  47],\n",
       "         [ 53,  67,  44],\n",
       "         ...,\n",
       "         [ 84,  88,  71],\n",
       "         [ 95, 102,  84],\n",
       "         [ 98, 105,  87]]], dtype=uint8),\n",
       " 'elapsed_time': 0.4378530979156494}"
      ]
     },
     "execution_count": 7,
     "metadata": {},
     "output_type": "execute_result"
    }
   ],
   "source": [
    "viz_path = \"test_result\"\n",
    "test_img_name = \"test2\"\n",
    "\n",
    "\n",
    "visualize_object_predictions(\n",
    "    image=np.ascontiguousarray(sliced_pred_result.image),\n",
    "    object_prediction_list=sliced_pred_result.object_prediction_list,\n",
    "    rect_th=1,\n",
    "    text_size=0.3,\n",
    "    text_th=1,\n",
    "    color=(0, 0, 0),\n",
    "    output_dir=viz_path,\n",
    "    file_name=test_img_name + \"_sliced_pred_result\",\n",
    "    export_format=\"png\",\n",
    ")"
   ]
  },
  {
   "cell_type": "code",
   "execution_count": 15,
   "id": "2d9dc4c6-8833-4569-a441-6034ce60d61c",
   "metadata": {},
   "outputs": [
    {
     "data": {
      "text/plain": [
       "'test_sliced_pred_result'"
      ]
     },
     "execution_count": 15,
     "metadata": {},
     "output_type": "execute_result"
    }
   ],
   "source": [
    "test_img_name + \"_sliced_pred_result\""
   ]
  }
 ],
 "metadata": {
  "kernelspec": {
   "display_name": "Python 3 (ipykernel)",
   "language": "python",
   "name": "python3"
  },
  "language_info": {
   "codemirror_mode": {
    "name": "ipython",
    "version": 3
   },
   "file_extension": ".py",
   "mimetype": "text/x-python",
   "name": "python",
   "nbconvert_exporter": "python",
   "pygments_lexer": "ipython3",
   "version": "3.8.13"
  }
 },
 "nbformat": 4,
 "nbformat_minor": 5
}

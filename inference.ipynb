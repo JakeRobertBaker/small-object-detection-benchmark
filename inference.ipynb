{
 "cells": [
  {
   "cell_type": "markdown",
   "id": "088f7ce9-a9ed-4365-8f62-20ea6b0e54d1",
   "metadata": {},
   "source": [
    "# Image processing"
   ]
  },
  {
   "cell_type": "code",
   "execution_count": 1,
   "id": "7f84cd71-8020-4a84-8cb7-739581a18103",
   "metadata": {},
   "outputs": [],
   "source": [
    "# 60m = 310 pixels\n",
    "# We want 60m = 60/0.3 = 200 pixels\n",
    "# Therefore we multiply the width and height by 200/310\n",
    "\n",
    "from PIL import Image\n",
    "image = Image.open('21-4-20.jpg')\n",
    "image.thumbnail((400, 400))\n",
    "image.save('image_thumbnail.jpg')\n",
    "\n",
    "print(image.size) # Output: (400, 267)"
   ]
  },
  {
   "cell_type": "code",
   "execution_count": 10,
   "id": "f109f69a-c703-416e-8c2d-d0bb3faa2894",
   "metadata": {},
   "outputs": [
    {
     "data": {
      "text/plain": [
       "(3096.7741935483873, 1927.0967741935483)"
      ]
     },
     "execution_count": 10,
     "metadata": {},
     "output_type": "execute_result"
    }
   ],
   "source": [
    "width, height = image.size\n",
    "new_width, new_height = width * 200/310, height * 200/310\n",
    "new_width, new_height"
   ]
  },
  {
   "cell_type": "code",
   "execution_count": 11,
   "id": "2dd3a795-69c6-43a4-8372-9a8711982503",
   "metadata": {},
   "outputs": [],
   "source": [
    "image.thumbnail((new_width, new_height))"
   ]
  },
  {
   "cell_type": "code",
   "execution_count": 13,
   "id": "f5b2b93f-d05d-4766-b9c3-ea39831ec5a5",
   "metadata": {},
   "outputs": [
    {
     "name": "stdout",
     "output_type": "stream",
     "text": [
      "(3096, 1927)\n"
     ]
    }
   ],
   "source": [
    "image.save('21-4-20.jpg_resize.jpg')\n",
    "print(image.size)"
   ]
  },
  {
   "cell_type": "markdown",
   "id": "b8ab7093-8d1c-4fff-be70-d9c97c6fbdfa",
   "metadata": {
    "tags": []
   },
   "source": [
    "# Inference"
   ]
  },
  {
   "cell_type": "code",
   "execution_count": 14,
   "id": "b07b85d2-f2a5-4edd-8e40-bcc1c475c8a9",
   "metadata": {},
   "outputs": [
    {
     "name": "stderr",
     "output_type": "stream",
     "text": [
      "/vol/bitbucket/jrb21/anaconda3/envs/sodb/lib/python3.8/site-packages/tqdm/auto.py:22: TqdmWarning: IProgress not found. Please update jupyter and ipywidgets. See https://ipywidgets.readthedocs.io/en/stable/user_install.html\n",
      "  from .autonotebook import tqdm as notebook_tqdm\n"
     ]
    },
    {
     "name": "stdout",
     "output_type": "stream",
     "text": [
      "load checkpoint from local path: models-to-test/latest.pth\n",
      "Performing prediction on 60 number of slices.\n"
     ]
    }
   ],
   "source": [
    "from sahi.model import MmdetDetectionModel\n",
    "from sahi.predict import get_prediction, get_sliced_prediction, predict\n",
    "from sahi.utils.cv import visualize_object_predictions\n",
    "import numpy as np\n",
    "\n",
    "width, height = (400,400)\n",
    "\n",
    "detection_model = MmdetDetectionModel(\n",
    "    model_path= \"models-to-test/latest.pth\",\n",
    "    config_path= \"mmdet_configs/xview_tood/tood_crop_300_500_cls_cars_trucks_1e-3_new_pipe.py\",\n",
    "    device='cuda' # or 'cpu'\n",
    ")\n",
    "\n",
    "# test_img_path =  \"data/xview/train_images/1694.tif\"\n",
    "# test_img_path = \"warickshire_road_resample.jpg\"\n",
    "test_img_path = '21-4-20.jpg_resize.jpg'\n",
    "\n",
    "sliced_pred_result = get_sliced_prediction(\n",
    "    test_img_path,\n",
    "    detection_model, \n",
    "    slice_width=width, \n",
    "    slice_height=height\n",
    ")\n",
    "\n"
   ]
  },
  {
   "cell_type": "code",
   "execution_count": 15,
   "id": "06950b16-6a9d-4a8f-9639-d469c11cc2fd",
   "metadata": {},
   "outputs": [
    {
     "data": {
      "text/plain": [
       "{'image': array([[[110,  93,  77],\n",
       "         [111,  94,  78],\n",
       "         [112,  95,  79],\n",
       "         ...,\n",
       "         [120, 102,  88],\n",
       "         [120, 102,  88],\n",
       "         [120, 102,  88]],\n",
       " \n",
       "        [[107,  90,  74],\n",
       "         [106,  89,  73],\n",
       "         [106,  89,  73],\n",
       "         ...,\n",
       "         [120, 102,  88],\n",
       "         [120, 102,  88],\n",
       "         [119, 101,  87]],\n",
       " \n",
       "        [[109,  92,  76],\n",
       "         [108,  91,  75],\n",
       "         [106,  89,  73],\n",
       "         ...,\n",
       "         [119, 101,  87],\n",
       "         [119, 101,  87],\n",
       "         [119, 101,  87]],\n",
       " \n",
       "        ...,\n",
       " \n",
       "        [[ 54,  66,  44],\n",
       "         [ 53,  67,  44],\n",
       "         [ 53,  67,  44],\n",
       "         ...,\n",
       "         [ 96, 100,  86],\n",
       "         [ 71,  77,  63],\n",
       "         [ 48,  56,  41]],\n",
       " \n",
       "        [[ 55,  67,  45],\n",
       "         [ 53,  67,  44],\n",
       "         [ 52,  66,  43],\n",
       "         ...,\n",
       "         [ 89,  93,  78],\n",
       "         [ 84,  91,  75],\n",
       "         [ 68,  77,  60]],\n",
       " \n",
       "        [[ 58,  70,  48],\n",
       "         [ 56,  70,  47],\n",
       "         [ 53,  67,  44],\n",
       "         ...,\n",
       "         [ 84,  88,  71],\n",
       "         [ 95, 102,  84],\n",
       "         [ 98, 105,  87]]], dtype=uint8),\n",
       " 'elapsed_time': 0.5395288467407227}"
      ]
     },
     "execution_count": 15,
     "metadata": {},
     "output_type": "execute_result"
    }
   ],
   "source": [
    "viz_path = \"test_result\"\n",
    "test_img_name = \"test\"\n",
    "\n",
    "\n",
    "visualize_object_predictions(\n",
    "    image=np.ascontiguousarray(sliced_pred_result.image),\n",
    "    object_prediction_list=sliced_pred_result.object_prediction_list,\n",
    "    rect_th=1,\n",
    "    text_size=0.3,\n",
    "    text_th=1,\n",
    "    color=(0, 0, 0),\n",
    "    output_dir=viz_path,\n",
    "    file_name=test_img_name + \"_sliced_pred_result\",\n",
    "    export_format=\"png\",\n",
    ")"
   ]
  },
  {
   "cell_type": "code",
   "execution_count": 15,
   "id": "2d9dc4c6-8833-4569-a441-6034ce60d61c",
   "metadata": {},
   "outputs": [
    {
     "data": {
      "text/plain": [
       "'test_sliced_pred_result'"
      ]
     },
     "execution_count": 15,
     "metadata": {},
     "output_type": "execute_result"
    }
   ],
   "source": [
    "test_img_name + \"_sliced_pred_result\""
   ]
  }
 ],
 "metadata": {
  "kernelspec": {
   "display_name": "Python 3 (ipykernel)",
   "language": "python",
   "name": "python3"
  },
  "language_info": {
   "codemirror_mode": {
    "name": "ipython",
    "version": 3
   },
   "file_extension": ".py",
   "mimetype": "text/x-python",
   "name": "python",
   "nbconvert_exporter": "python",
   "pygments_lexer": "ipython3",
   "version": "3.8.13"
  }
 },
 "nbformat": 4,
 "nbformat_minor": 5
}

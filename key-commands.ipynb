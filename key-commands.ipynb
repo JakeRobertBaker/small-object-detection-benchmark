{
 "cells": [
  {
   "cell_type": "markdown",
   "id": "a6c669f9-8808-4955-8013-29712006325c",
   "metadata": {},
   "source": [
    "# Key Commands\n",
    "\n",
    "## Convert xview to coco\n",
    "\n",
    "Make sure to be in /vol/bitbucket/jrb21/project/small-object-detection-benchmark"
   ]
  },
  {
   "cell_type": "code",
   "execution_count": null,
   "id": "35eed4a5-c0af-49b5-9966-5d8648be61d1",
   "metadata": {},
   "outputs": [],
   "source": [
    "!python xview/xview_to_coco.py --train_images_dir=\"/vol/bitbucket/jrb21/project/xView/data/train/images\" \\ \n",
    "--train_geojson_path=\"/vol/bitbucket/jrb21/project/xView/data/xView_train.geojson\" \\ \n",
    "--output_dir=\"/vol/bitbucket/jrb21/project/xView/data/coco\""
   ]
  },
  {
   "cell_type": "markdown",
   "id": "eb633df4-ec09-4a73-8b86-356e3dfa495c",
   "metadata": {},
   "source": [
    "##"
   ]
  },
  {
   "cell_type": "code",
   "execution_count": null,
   "id": "13e035f3-7e7b-4862-8c8c-84bd88cdbca4",
   "metadata": {},
   "outputs": [],
   "source": [
    "https://github.com/fcakyon/sahi-benchmark/releases/download/v0.0.2/tood_sf_xview.pth"
   ]
  }
 ],
 "metadata": {
  "kernelspec": {
   "display_name": "Python 3 (ipykernel)",
   "language": "python",
   "name": "python3"
  },
  "language_info": {
   "codemirror_mode": {
    "name": "ipython",
    "version": 3
   },
   "file_extension": ".py",
   "mimetype": "text/x-python",
   "name": "python",
   "nbconvert_exporter": "python",
   "pygments_lexer": "ipython3",
   "version": "3.8.13"
  }
 },
 "nbformat": 4,
 "nbformat_minor": 5
}

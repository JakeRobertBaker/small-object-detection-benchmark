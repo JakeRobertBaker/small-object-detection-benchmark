{
 "cells": [
  {
   "cell_type": "markdown",
   "id": "e4296950-5302-490c-94a4-d7b3e2116c03",
   "metadata": {},
   "source": [
    "# Full Pipeline"
   ]
  },
  {
   "cell_type": "markdown",
   "id": "f67cb4b8-041c-44de-b4a6-3e9174dd027c",
   "metadata": {
    "tags": []
   },
   "source": [
    "## Imports"
   ]
  },
  {
   "cell_type": "code",
   "execution_count": 1,
   "id": "2a5a2464-f952-4532-8c4b-8f9441952282",
   "metadata": {},
   "outputs": [
    {
     "name": "stderr",
     "output_type": "stream",
     "text": [
      "/vol/bitbucket/jrb21/anaconda3/envs/sodb/lib/python3.8/site-packages/tqdm/auto.py:22: TqdmWarning: IProgress not found. Please update jupyter and ipywidgets. See https://ipywidgets.readthedocs.io/en/stable/user_install.html\n",
      "  from .autonotebook import tqdm as notebook_tqdm\n"
     ]
    }
   ],
   "source": [
    "import os\n",
    "from PIL import Image\n",
    "from sahi.model import MmdetDetectionModel\n",
    "from sahi.predict import get_prediction, get_sliced_prediction, predict\n",
    "from sahi.utils.cv import visualize_object_predictions\n",
    "import numpy as np"
   ]
  },
  {
   "cell_type": "markdown",
   "id": "d3991041-6668-4ce3-8d8e-c78545e099fd",
   "metadata": {
    "jp-MarkdownHeadingCollapsed": true,
    "tags": []
   },
   "source": [
    "## Google Earth Image resize"
   ]
  },
  {
   "cell_type": "code",
   "execution_count": 2,
   "id": "3c2ae14d-f3a8-4047-826e-94feaf6aef47",
   "metadata": {
    "scrolled": true,
    "tags": []
   },
   "outputs": [
    {
     "name": "stdout",
     "output_type": "stream",
     "text": [
      "dir: 2017\n",
      "---- 7153_4-8-2017.jpg\n",
      "---- 84047_4-8-2017.jpg\n",
      "---- 73741_4-8-2017.jpg\n",
      "---- 84042_4-8-2017.jpg\n",
      "---- 57893_4-8-2017.jpg\n",
      "---- 99324_4-8-2017.jpg\n",
      "---- 48615_4-8-2017.jpg\n",
      "---- 49698_4-8-2017.jpg\n",
      "---- 58335_4-8-2017.jpg\n",
      "---- 84027_4-8-2017.jpg\n",
      "---- 48711_4-8-2017.jpg\n",
      "---- 84026_4-8-2017.jpg\n",
      "---- 38717_4-8-2017.jpg\n",
      "---- 6142_4-8-2017.jpg\n",
      "---- 89130_4-8-2017.jpg\n",
      "---- 89134_4-8-2017.jpg\n",
      "dir: 2019\n",
      "---- 7153_5-14-2019.jpg\n",
      "---- 89134_5-14-2019.jpg\n",
      "---- 6142_5-14-2019.jpg\n",
      "---- 84042_5-12-2019.jpg\n",
      "---- 84047_5-12-2019.jpg\n",
      "---- 38717_5-14-2019.jpg\n",
      "---- 84047_5-14-2019.jpg\n",
      "---- 84026_5-14-2019.jpg\n",
      "---- 84042_5-14-2019.jpg\n",
      "---- 89130_5-12-2019.jpg\n",
      "---- 49698_5-14-2019.jpg\n",
      "---- 84027_5-14-2019.jpg\n",
      "---- 57893_5-14-2019.jpg\n",
      "---- 84027_5-12-2019.jpg\n",
      "---- 73741_5-14-2019.jpg\n",
      "---- 89130_5-14-2019.jpg\n",
      "dir: 2021\n",
      "---- 99324_6-15-2021.jpg\n",
      "---- 58322_6-16-2021.jpg\n",
      "---- 38708_6-15-2021.jpg\n",
      "---- 8625_6-16-2021.jpg\n",
      "---- 7153_4-4-2021.jpg\n",
      "---- 84047_4-4-2021.jpg\n",
      "---- 73851_6-16-2021.jpg\n",
      "---- 99324_4-22-2021.jpg\n",
      "---- 73741_4-4-2021.jpg\n",
      "---- 84042_4-4-2021.jpg\n",
      "---- 57893_4-4-2021.jpg\n",
      "---- 48711_4-22-2021.jpg\n",
      "---- 89134_4-19-2021.jpg\n",
      "---- 36505_6-16-2021.jpg\n",
      "---- 73742_6-16-2021.jpg\n",
      "---- 77205_6-16-2021.jpg\n",
      "---- 58312_6-15-2021.jpg\n",
      "---- 58335_4-22-2021.jpg\n",
      "---- 49698_4-4-2021.jpg\n",
      "---- 84047_4-19-2021.jpg\n",
      "---- 84026_4-4-2021.jpg\n",
      "---- 84027_4-4-2021.jpg\n",
      "---- 84027_4-19-2021.jpg\n",
      "---- 7153_4-19-2021.jpg\n",
      "---- 77205_6-15-2021.jpg\n",
      "---- 58312_6-16-2021.jpg\n",
      "---- 56417_6-16-2021.jpg\n",
      "---- 57624_6-16-2021.jpg\n",
      "---- 73741_6-16-2021.jpg\n",
      "---- 38717_4-4-2021.jpg\n",
      "---- 36505_6-15-2021.jpg\n",
      "---- 89130_4-19-2021.jpg\n",
      "---- 77206_6-16-2021.jpg\n",
      "---- 6142_4-4-2021.jpg\n",
      "---- 73315_6-16-2021.jpg\n",
      "---- 46146_6-16-2021.jpg\n",
      "---- 89130_4-4-2021.jpg\n",
      "---- 48615_4-22-2021.jpg\n",
      "---- 89134_4-4-2021.jpg\n",
      "---- 8625_6-15-2021.jpg\n",
      "---- 38708_6-16-2021.jpg\n",
      "---- 48615_6-15-2021.jpg\n",
      "dir: 2016\n",
      "---- 46146_4-20-2016.jpg\n",
      "---- 57893_4-20-2016.jpg\n",
      "---- 73315_4-20-2016.jpg\n",
      "---- 77206_4-20-2016.jpg\n",
      "---- 57624_4-20-2016.jpg\n",
      "---- 38708_5-8-2016.jpg\n",
      "---- 73741_4-20-2016.jpg\n",
      "---- 38708_4-20-2016.jpg\n",
      "---- 36505_8-18-2016.jpg\n",
      "---- 8625_4-20-2016.jpg\n",
      "---- 89130_4-20-2016.jpg\n",
      "---- 58312_5-8-2016.jpg\n",
      "---- 36022_4-20-2016.jpg\n",
      "---- 49698_4-20-2016.jpg\n",
      "---- 56417_4-20-2016.jpg\n",
      "---- 58312_4-20-2016.jpg\n",
      "---- 84027_4-20-2016.jpg\n",
      "---- 84026_4-20-2016.jpg\n",
      "---- 84047_4-20-2016.jpg\n",
      "---- 77205_4-20-2016.jpg\n",
      "---- 84042_4-20-2016.jpg\n",
      "---- 73742_4-20-2016.jpg\n",
      "---- 7153_4-20-2016.jpg\n",
      "---- 6142_4-20-2016.jpg\n",
      "---- 73315_5-8-2016.jpg\n",
      "---- 8625_5-8-2016.jpg\n",
      "---- 73851_4-20-2016.jpg\n",
      "---- 58322_5-8-2016.jpg\n",
      "---- 58322_4-20-2016.jpg\n",
      "---- 89134_4-20-2016.jpg\n",
      "---- 36505_4-20-2016.jpg\n",
      "---- 38717_4-20-2016.jpg\n",
      "dir: 2018\n",
      "---- 89130_4-5-2018.jpg\n",
      "---- 38717_4-5-2018.jpg\n",
      "---- 57624_4-5-2018.jpg\n",
      "---- 8625_4-5-2018.jpg\n",
      "---- 89134_4-5-2018.jpg\n",
      "---- 84026_4-5-2018.jpg\n",
      "---- 7153_4-5-2018.jpg\n",
      "---- 84027_4-5-2018.jpg\n",
      "---- 58322_4-5-2018.jpg\n",
      "---- 73315_4-5-2018.jpg\n",
      "---- 6142_4-5-2018.jpg\n",
      "---- 46146_4-5-2018.jpg\n",
      "---- 49698_4-5-2018.jpg\n",
      "---- 38708_4-5-2018.jpg\n",
      "---- 36022_4-5-2018.jpg\n",
      "---- 36505_4-5-2018.jpg\n",
      "---- 77206_4-5-2018.jpg\n",
      "---- 73851_4-5-2018.jpg\n",
      "---- 84047_4-5-2018.jpg\n",
      "---- 56417_4-5-2018.jpg\n",
      "---- 77205_4-5-2018.jpg\n",
      "---- 73742_4-5-2018.jpg\n",
      "---- 84042_4-5-2018.jpg\n",
      "---- 57893_4-5-2018.jpg\n",
      "---- 58312_4-5-2018.jpg\n",
      "---- 73741_4-5-2018.jpg\n",
      "dir: 2020\n",
      "---- 38708_4-21-2020.jpg\n",
      "---- 89134_4-9-2020.jpg\n",
      "---- 89130_4-21-2020.jpg\n",
      "---- 38708_4-11-2020.jpg\n",
      "---- 46146_4-21-2020.jpg\n",
      "---- 89130_4-9-2020.jpg\n",
      "---- 57893_4-21-2020.jpg\n",
      "---- 73315_4-21-2020.jpg\n",
      "---- 77206_4-21-2020.jpg\n",
      "---- 57624_4-21-2020.jpg\n",
      "---- 73741_4-21-2020.jpg\n",
      "---- 56417_4-21-2020.jpg\n",
      "---- 8625_4-11-2020.jpg\n",
      "---- 58312_4-21-2020.jpg\n",
      "---- 8625_4-21-2020.jpg\n",
      "---- 84027_4-21-2020.jpg\n",
      "---- 58312_4-11-2020.jpg\n",
      "---- 36022_4-21-2020.jpg\n",
      "---- 84027_4-9-2020.jpg\n",
      "---- 49698_4-21-2020.jpg\n",
      "---- 84026_4-21-2020.jpg\n",
      "---- 84047_4-21-2020.jpg\n",
      "---- 77205_4-21-2020.jpg\n",
      "---- .ipynb_checkpoints\n"
     ]
    },
    {
     "ename": "IsADirectoryError",
     "evalue": "[Errno 21] Is a directory: 'warwickshire_images/2020/.ipynb_checkpoints'",
     "output_type": "error",
     "traceback": [
      "\u001b[0;31m---------------------------------------------------------------------------\u001b[0m",
      "\u001b[0;31mIsADirectoryError\u001b[0m                         Traceback (most recent call last)",
      "Input \u001b[0;32mIn [2]\u001b[0m, in \u001b[0;36m<cell line: 3>\u001b[0;34m()\u001b[0m\n\u001b[1;32m      5\u001b[0m     \u001b[38;5;28;01mfor\u001b[39;00m file \u001b[38;5;129;01min\u001b[39;00m os\u001b[38;5;241m.\u001b[39mlistdir(os\u001b[38;5;241m.\u001b[39mpath\u001b[38;5;241m.\u001b[39mjoin(\u001b[38;5;124m'\u001b[39m\u001b[38;5;124mwarwickshire_images\u001b[39m\u001b[38;5;124m'\u001b[39m, directory)):\n\u001b[1;32m      6\u001b[0m         \u001b[38;5;28mprint\u001b[39m(\u001b[38;5;124m'\u001b[39m\u001b[38;5;124m----\u001b[39m\u001b[38;5;124m'\u001b[39m,file)\n\u001b[0;32m----> 7\u001b[0m         image \u001b[38;5;241m=\u001b[39m \u001b[43mImage\u001b[49m\u001b[38;5;241;43m.\u001b[39;49m\u001b[43mopen\u001b[49m\u001b[43m(\u001b[49m\u001b[43mos\u001b[49m\u001b[38;5;241;43m.\u001b[39;49m\u001b[43mpath\u001b[49m\u001b[38;5;241;43m.\u001b[39;49m\u001b[43mjoin\u001b[49m\u001b[43m(\u001b[49m\u001b[38;5;124;43m'\u001b[39;49m\u001b[38;5;124;43mwarwickshire_images\u001b[39;49m\u001b[38;5;124;43m'\u001b[39;49m\u001b[43m,\u001b[49m\u001b[43m \u001b[49m\u001b[43mdirectory\u001b[49m\u001b[43m,\u001b[49m\u001b[43m \u001b[49m\u001b[43mfile\u001b[49m\u001b[43m)\u001b[49m\u001b[43m)\u001b[49m\n\u001b[1;32m      8\u001b[0m         image_sizes\u001b[38;5;241m.\u001b[39madd(image\u001b[38;5;241m.\u001b[39msize) \u001b[38;5;66;03m# Output: (400, 267)\u001b[39;00m\n\u001b[1;32m     10\u001b[0m \u001b[38;5;28mprint\u001b[39m(image_sizes)\n",
      "File \u001b[0;32m/vol/bitbucket/jrb21/anaconda3/envs/sodb/lib/python3.8/site-packages/PIL/Image.py:3068\u001b[0m, in \u001b[0;36mopen\u001b[0;34m(fp, mode, formats)\u001b[0m\n\u001b[1;32m   3065\u001b[0m     filename \u001b[38;5;241m=\u001b[39m fp\n\u001b[1;32m   3067\u001b[0m \u001b[38;5;28;01mif\u001b[39;00m filename:\n\u001b[0;32m-> 3068\u001b[0m     fp \u001b[38;5;241m=\u001b[39m \u001b[43mbuiltins\u001b[49m\u001b[38;5;241;43m.\u001b[39;49m\u001b[43mopen\u001b[49m\u001b[43m(\u001b[49m\u001b[43mfilename\u001b[49m\u001b[43m,\u001b[49m\u001b[43m \u001b[49m\u001b[38;5;124;43m\"\u001b[39;49m\u001b[38;5;124;43mrb\u001b[39;49m\u001b[38;5;124;43m\"\u001b[39;49m\u001b[43m)\u001b[49m\n\u001b[1;32m   3069\u001b[0m     exclusive_fp \u001b[38;5;241m=\u001b[39m \u001b[38;5;28;01mTrue\u001b[39;00m\n\u001b[1;32m   3071\u001b[0m \u001b[38;5;28;01mtry\u001b[39;00m:\n",
      "\u001b[0;31mIsADirectoryError\u001b[0m: [Errno 21] Is a directory: 'warwickshire_images/2020/.ipynb_checkpoints'"
     ]
    }
   ],
   "source": [
    "image_sizes = set()\n",
    "\n",
    "for directory in os.listdir('warwickshire_images'):\n",
    "    print('dir:',directory)\n",
    "    for file in os.listdir(os.path.join('warwickshire_images', directory)):\n",
    "        print('----',file)\n",
    "        image = Image.open(os.path.join('warwickshire_images', directory, file))\n",
    "        image_sizes.add(image.size) # Output: (400, 267)\n",
    "\n",
    "print(image_sizes)"
   ]
  },
  {
   "cell_type": "markdown",
   "id": "9ea35e92-e138-4119-b038-96d7bbf2f2a4",
   "metadata": {
    "jp-MarkdownHeadingCollapsed": true,
    "tags": []
   },
   "source": [
    "### Make the directory for the resized images"
   ]
  },
  {
   "cell_type": "code",
   "execution_count": 19,
   "id": "a1579071-1e22-4b7c-947c-961fa494087b",
   "metadata": {},
   "outputs": [],
   "source": [
    "os.mkdir('warwickshire_images_resized')\n",
    "for dirname in os.listdir('warwickshire_images'):\n",
    "    os.mkdir(os.path.join('warwickshire_images_resized', dirname))"
   ]
  },
  {
   "cell_type": "markdown",
   "id": "2826f7c2-5025-4927-8339-488afdf7aa27",
   "metadata": {},
   "source": [
    "### Resize the image"
   ]
  },
  {
   "cell_type": "markdown",
   "id": "e02a916b-eb28-4358-bdf2-f1c342d0b511",
   "metadata": {},
   "source": [
    "On all the images we see that the 60m scale is 310 pixels long. \n",
    "\n",
    "We want a GSD of 0.3m therefore we want 60m = 60/0.3 = 200 pixels.\n",
    "\n",
    "Therefore we multiply the widths and heights by 200/310"
   ]
  },
  {
   "cell_type": "code",
   "execution_count": 3,
   "id": "b8ea8d53-8efa-4704-addb-3a8433f898c8",
   "metadata": {},
   "outputs": [
    {
     "data": {
      "text/plain": [
       "(3096.7741935483873, 1927.0967741935483)"
      ]
     },
     "execution_count": 3,
     "metadata": {},
     "output_type": "execute_result"
    }
   ],
   "source": [
    "width, height = image.size\n",
    "new_width, new_height = width * 200/310, height * 200/310\n",
    "new_width, new_height"
   ]
  },
  {
   "cell_type": "code",
   "execution_count": 6,
   "id": "3de9fd58-4f60-4de9-b890-01c9aab1dbca",
   "metadata": {},
   "outputs": [],
   "source": [
    "for directory in os.listdir('warwickshire_images'):\n",
    "    # Directorie are the years\n",
    "    for file in os.listdir(os.path.join('warwickshire_images', directory)):\n",
    "        if file.split('.')[-1] == 'jpg':\n",
    "            # The image files\n",
    "            image = Image.open(os.path.join('warwickshire_images', directory, file))\n",
    "            image.thumbnail((new_width, new_height))\n",
    "            image.save(os.path.join('warwickshire_images_resized', directory, file))"
   ]
  },
  {
   "cell_type": "code",
   "execution_count": 11,
   "id": "9b75fbf3-ed9c-42e5-9d4b-fe607b37701c",
   "metadata": {},
   "outputs": [
    {
     "data": {
      "text/plain": [
       "(3096, 1927)"
      ]
     },
     "execution_count": 11,
     "metadata": {},
     "output_type": "execute_result"
    }
   ],
   "source": [
    "image.size"
   ]
  },
  {
   "cell_type": "markdown",
   "id": "0644a22f-e8ee-4cdf-bcc0-d2583ec15427",
   "metadata": {},
   "source": [
    "## Inference"
   ]
  },
  {
   "cell_type": "markdown",
   "id": "ac95caf3-3094-4e29-ac41-df371be99ae8",
   "metadata": {
    "tags": []
   },
   "source": [
    "### Test function: get_sliced_prediction"
   ]
  },
  {
   "cell_type": "code",
   "execution_count": 2,
   "id": "85149515-5352-4ffd-886d-f69b274766bb",
   "metadata": {},
   "outputs": [
    {
     "name": "stdout",
     "output_type": "stream",
     "text": [
      "load checkpoint from local path: models-to-test/latest.pth\n"
     ]
    }
   ],
   "source": [
    "detection_model = MmdetDetectionModel(\n",
    "    model_path= \"models-to-test/latest.pth\",\n",
    "    config_path= \"mmdet_configs/xview_tood/tood_crop_300_500_cls_cars_trucks_1e-3_new_pipe.py\",\n",
    "    device='cuda' # or 'cpu'\n",
    ")"
   ]
  },
  {
   "cell_type": "code",
   "execution_count": 3,
   "id": "d9bafeab-e911-4903-bfeb-b92479c26109",
   "metadata": {},
   "outputs": [
    {
     "name": "stdout",
     "output_type": "stream",
     "text": [
      "Performing prediction on 60 number of slices.\n"
     ]
    }
   ],
   "source": [
    "test_img_path = \"warwickshire_images_resized/2020/77206_4-21-2020.jpg\"\n",
    "width, height = (400,400)\n",
    "\n",
    "sliced_pred_result = get_sliced_prediction(\n",
    "    test_img_path,\n",
    "    detection_model, \n",
    "    slice_width=width, \n",
    "    slice_height=height\n",
    ")"
   ]
  },
  {
   "cell_type": "code",
   "execution_count": 21,
   "id": "580d93ef-7652-4aa9-8126-82449e30e5d3",
   "metadata": {},
   "outputs": [
    {
     "data": {
      "text/plain": [
       "dict_items([('minx', 1266), ('miny', 975), ('maxx', 1285), ('maxy', 990), ('shift_x', 0), ('shift_y', 0)])"
      ]
     },
     "execution_count": 21,
     "metadata": {},
     "output_type": "execute_result"
    }
   ],
   "source": [
    "sliced_pred_result.object_prediction_list[0].bbox.__dict__.items()"
   ]
  },
  {
   "cell_type": "code",
   "execution_count": 13,
   "id": "4099aefe-6afd-43cb-bceb-dc53a0cc67f9",
   "metadata": {},
   "outputs": [
    {
     "data": {
      "text/plain": [
       "0.3079700469970703"
      ]
     },
     "execution_count": 13,
     "metadata": {},
     "output_type": "execute_result"
    }
   ],
   "source": [
    "min([item.score.value for item in sliced_pred_result.object_prediction_list])"
   ]
  },
  {
   "cell_type": "markdown",
   "id": "2bec2b30-f4e6-42e5-ad9f-1b269a438f75",
   "metadata": {},
   "source": [
    "It appears that the function get_sliced_prediction has a confidence threshold of 0.3."
   ]
  },
  {
   "cell_type": "code",
   "execution_count": 16,
   "id": "a8155e6a-c562-40b5-ab92-1520999340c1",
   "metadata": {
    "scrolled": true,
    "tags": []
   },
   "outputs": [
    {
     "data": {
      "text/plain": [
       "{'image': array([[[ 97, 100,  93],\n",
       "         [100, 103,  96],\n",
       "         [ 91,  94,  85],\n",
       "         ...,\n",
       "         [ 25,  44,  22],\n",
       "         [ 16,  35,  13],\n",
       "         [ 34,  53,  31]],\n",
       " \n",
       "        [[ 98, 101,  92],\n",
       "         [ 87,  90,  81],\n",
       "         [ 82,  85,  76],\n",
       "         ...,\n",
       "         [ 24,  43,  21],\n",
       "         [ 13,  32,  10],\n",
       "         [ 27,  46,  24]],\n",
       " \n",
       "        [[ 76,  79,  70],\n",
       "         [ 53,  56,  47],\n",
       "         [ 53,  56,  47],\n",
       "         ...,\n",
       "         [ 31,  49,  27],\n",
       "         [ 14,  32,  10],\n",
       "         [ 18,  36,  14]],\n",
       " \n",
       "        ...,\n",
       " \n",
       "        [[136, 125, 103],\n",
       "         [137, 126, 104],\n",
       "         [145, 133, 111],\n",
       "         ...,\n",
       "         [ 34,  53,  31],\n",
       "         [ 64,  84,  59],\n",
       "         [ 59,  79,  54]],\n",
       " \n",
       "        [[140, 129, 107],\n",
       "         [141, 130, 108],\n",
       "         [148, 136, 114],\n",
       "         ...,\n",
       "         [ 42,  61,  39],\n",
       "         [ 54,  74,  49],\n",
       "         [ 44,  64,  39]],\n",
       " \n",
       "        [[142, 131, 109],\n",
       "         [142, 131, 109],\n",
       "         [148, 136, 114],\n",
       "         ...,\n",
       "         [ 55,  74,  52],\n",
       "         [ 50,  70,  45],\n",
       "         [ 45,  65,  40]]], dtype=uint8),\n",
       " 'elapsed_time': 0.47784924507141113}"
      ]
     },
     "execution_count": 16,
     "metadata": {},
     "output_type": "execute_result"
    }
   ],
   "source": [
    "viz_path = \"test_result\"\n",
    "test_img_name = \"test\"\n",
    "\n",
    "\n",
    "visualize_object_predictions(\n",
    "    image=np.ascontiguousarray(sliced_pred_result.image),\n",
    "    object_prediction_list=sliced_pred_result.object_prediction_list,\n",
    "    rect_th=1,\n",
    "    text_size=0.3,\n",
    "    text_th=1,\n",
    "    color=(0, 0, 0),\n",
    "    output_dir=viz_path,\n",
    "    file_name=test_img_name + \"_sliced_pred_result\",\n",
    "    export_format=\"png\",\n",
    ")"
   ]
  },
  {
   "cell_type": "markdown",
   "id": "cd7d7bd9-a212-4884-a091-2ca60612963c",
   "metadata": {},
   "source": [
    "### Batch Prediction"
   ]
  },
  {
   "cell_type": "code",
   "execution_count": null,
   "id": "553547e9-1078-4ea8-b825-1cc27b136a32",
   "metadata": {},
   "outputs": [],
   "source": []
  }
 ],
 "metadata": {
  "kernelspec": {
   "display_name": "Python 3 (ipykernel)",
   "language": "python",
   "name": "python3"
  },
  "language_info": {
   "codemirror_mode": {
    "name": "ipython",
    "version": 3
   },
   "file_extension": ".py",
   "mimetype": "text/x-python",
   "name": "python",
   "nbconvert_exporter": "python",
   "pygments_lexer": "ipython3",
   "version": "3.8.13"
  }
 },
 "nbformat": 4,
 "nbformat_minor": 5
}

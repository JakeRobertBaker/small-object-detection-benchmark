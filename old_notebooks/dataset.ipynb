{
 "cells": [
  {
   "cell_type": "markdown",
   "id": "550f4315-050d-4f61-b0b4-04e457bb70c8",
   "metadata": {},
   "source": [
    "# Clean out negative coordinates"
   ]
  },
  {
   "cell_type": "code",
   "execution_count": 2,
   "id": "ca81f28d-1364-44ae-8ccc-4f9ae4d1c3ab",
   "metadata": {},
   "outputs": [],
   "source": [
    "import json\n",
    "import copy\n",
    "\n",
    "with open('data/xview/coco/train.json') as train_file:\n",
    "    data = json.load(train_file)"
   ]
  },
  {
   "cell_type": "code",
   "execution_count": 47,
   "id": "0013a83d-82a2-4a83-b6d2-013ec4310723",
   "metadata": {},
   "outputs": [],
   "source": [
    "clean_annotations = []\n",
    "\n",
    "for ann in data['annotations']:\n",
    "    x,y,w,h = ann['bbox']\n",
    "    if (x>=0 and y>=0 and w>=0 and h>=0):\n",
    "        clean_annotations.append(ann)"
   ]
  },
  {
   "cell_type": "code",
   "execution_count": 50,
   "id": "a49314ff-3c99-4402-abb1-c91c20cca0ae",
   "metadata": {},
   "outputs": [],
   "source": [
    "clean_data = copy.deepcopy(data)\n",
    "\n",
    "clean_data['annotations'] = clean_annotations"
   ]
  },
  {
   "cell_type": "code",
   "execution_count": 51,
   "id": "a884795d-8e43-4e12-83e7-e213d82d1c9a",
   "metadata": {},
   "outputs": [],
   "source": [
    "# Directly from dictionary\n",
    "with open('data/xview/coco/train_cleaned.json', 'w') as outfile:\n",
    "    json.dump(clean_data, outfile)"
   ]
  },
  {
   "cell_type": "markdown",
   "id": "4a7bff92-9df1-4cd4-9c48-3f008b81bcf0",
   "metadata": {},
   "source": [
    "# Get File Names"
   ]
  },
  {
   "cell_type": "code",
   "execution_count": 7,
   "id": "52c48582-710a-4261-8756-4e1506ddf755",
   "metadata": {},
   "outputs": [],
   "source": [
    "import json\n",
    "import copy\n",
    "\n",
    "with open('data/xview/coco/train.json') as train_file:\n",
    "    data = json.load(train_file)\n",
    "    \n",
    "with open('data/xview/coco/val.json') as val_file:\n",
    "    val_data = json.load(val_file)"
   ]
  },
  {
   "cell_type": "code",
   "execution_count": 3,
   "id": "165aa775-b2d5-496d-b710-78102c878a55",
   "metadata": {},
   "outputs": [],
   "source": [
    "train_files = []\n",
    "\n",
    "for image in data['images']:\n",
    "    train_files.append(image['file_name'])\n",
    "    \n",
    "textfile = open(\"train_files.txt\", \"w\")\n",
    "for element in train_files:\n",
    "    textfile.write(element + \"\\n\")\n",
    "textfile.close()"
   ]
  },
  {
   "cell_type": "code",
   "execution_count": 8,
   "id": "5f7255e2-cc55-4fc2-81d2-8e9e533469af",
   "metadata": {},
   "outputs": [],
   "source": [
    "val_files = []\n",
    "\n",
    "for image in val_data['images']:\n",
    "    val_files.append(image['file_name'])\n",
    "    \n",
    "textfile = open(\"val_files.txt\", \"w\")\n",
    "for element in val_files:\n",
    "    textfile.write(element + \"\\n\")\n",
    "textfile.close()"
   ]
  }
 ],
 "metadata": {
  "kernelspec": {
   "display_name": "Python 3 (ipykernel)",
   "language": "python",
   "name": "python3"
  },
  "language_info": {
   "codemirror_mode": {
    "name": "ipython",
    "version": 3
   },
   "file_extension": ".py",
   "mimetype": "text/x-python",
   "name": "python",
   "nbconvert_exporter": "python",
   "pygments_lexer": "ipython3",
   "version": "3.8.13"
  }
 },
 "nbformat": 4,
 "nbformat_minor": 5
}

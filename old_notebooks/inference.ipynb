{
 "cells": [
  {
   "cell_type": "markdown",
   "id": "088f7ce9-a9ed-4365-8f62-20ea6b0e54d1",
   "metadata": {},
   "source": [
    "# Image processing"
   ]
  },
  {
   "cell_type": "code",
   "execution_count": 1,
   "id": "7f84cd71-8020-4a84-8cb7-739581a18103",
   "metadata": {},
   "outputs": [
    {
     "name": "stdout",
     "output_type": "stream",
     "text": [
      "(4800, 2987)\n"
     ]
    }
   ],
   "source": [
    "# 60m = 310 pixels\n",
    "# We want 60m = 60/0.3 = 200 pixels\n",
    "# Therefore we multiply the width and height by 200/310\n",
    "\n",
    "from PIL import Image\n",
    "image = Image.open('21-4-20.jpg')\n",
    "print(image.size) # Output: (400, 267)"
   ]
  },
  {
   "cell_type": "code",
   "execution_count": 2,
   "id": "f109f69a-c703-416e-8c2d-d0bb3faa2894",
   "metadata": {},
   "outputs": [
    {
     "data": {
      "text/plain": [
       "(3096.7741935483873, 1927.0967741935483)"
      ]
     },
     "execution_count": 2,
     "metadata": {},
     "output_type": "execute_result"
    }
   ],
   "source": [
    "width, height = image.size\n",
    "new_width, new_height = width * 200/310, height * 200/310\n",
    "new_width, new_height"
   ]
  },
  {
   "cell_type": "code",
   "execution_count": 3,
   "id": "2dd3a795-69c6-43a4-8372-9a8711982503",
   "metadata": {},
   "outputs": [],
   "source": [
    "image.thumbnail((new_width, new_height))"
   ]
  },
  {
   "cell_type": "code",
   "execution_count": 4,
   "id": "f5b2b93f-d05d-4766-b9c3-ea39831ec5a5",
   "metadata": {},
   "outputs": [
    {
     "name": "stdout",
     "output_type": "stream",
     "text": [
      "(3096, 1927)\n"
     ]
    }
   ],
   "source": [
    "image.save('21-4-20_resize.jpg')\n",
    "print(image.size)"
   ]
  },
  {
   "cell_type": "markdown",
   "id": "b8ab7093-8d1c-4fff-be70-d9c97c6fbdfa",
   "metadata": {
    "tags": []
   },
   "source": [
    "# Inference"
   ]
  },
  {
   "cell_type": "code",
   "execution_count": 1,
   "id": "63354a4f-cc37-4feb-90c6-d95553ef11d7",
   "metadata": {},
   "outputs": [
    {
     "name": "stderr",
     "output_type": "stream",
     "text": [
      "/vol/bitbucket/jrb21/anaconda3/envs/sodb/lib/python3.8/site-packages/tqdm/auto.py:22: TqdmWarning: IProgress not found. Please update jupyter and ipywidgets. See https://ipywidgets.readthedocs.io/en/stable/user_install.html\n",
      "  from .autonotebook import tqdm as notebook_tqdm\n"
     ]
    }
   ],
   "source": [
    "from sahi.model import MmdetDetectionModel\n",
    "from sahi.predict import get_prediction, get_sliced_prediction, predict\n",
    "from sahi.utils.cv import visualize_object_predictions\n",
    "import numpy as np"
   ]
  },
  {
   "cell_type": "raw",
   "id": "4e997091-e18d-4535-bfd6-2bfa1c7cc211",
   "metadata": {},
   "source": [
    "## Test on paper's model\n",
    "\n",
    "width, height = (400,400)\n",
    "\n",
    "detection_model = MmdetDetectionModel(\n",
    "    model_path= \"checkpoints/tood_sf_xview.pth\",\n",
    "    config_path= \"mmdet_configs/xview_tood/tood_crop_300_500_cls_60.py\",\n",
    "    device='cuda' # or 'cpu'\n",
    ")\n",
    "\n",
    "# test_img_path =  \"data/xview/train_images/1694.tif\"\n",
    "# test_img_path = \"warickshire_road_resample.jpg\"\n",
    "# test_img_path = '21-4-20_resize.jpg'\n",
    "test_img_path = \"WV3/out_red.tiff\"\n",
    "\n",
    "sliced_pred_result = get_sliced_prediction(\n",
    "    test_img_path,\n",
    "    detection_model, \n",
    "    slice_width=width, \n",
    "    slice_height=height\n",
    ")"
   ]
  },
  {
   "cell_type": "code",
   "execution_count": 3,
   "id": "b07b85d2-f2a5-4edd-8e40-bcc1c475c8a9",
   "metadata": {},
   "outputs": [
    {
     "name": "stdout",
     "output_type": "stream",
     "text": [
      "load checkpoint from local path: models-to-test/latest.pth\n",
      "Performing prediction on 115 number of slices.\n"
     ]
    }
   ],
   "source": [
    "# Test on my model\n",
    "\n",
    "width, height = (400,400)\n",
    "\n",
    "detection_model = MmdetDetectionModel(\n",
    "    model_path= \"models-to-test/latest.pth\",\n",
    "    config_path= \"mmdet_configs/xview_tood/tood_crop_300_500_cls_cars_trucks_1e-3_new_pipe.py\",\n",
    "    device='cuda' # or 'cpu'\n",
    ")\n",
    "\n",
    "# test_img_path =  \"data/xview/train_images/1694.tif\"\n",
    "# test_img_path = \"warickshire_road_resample.jpg\"\n",
    "# test_img_path = '21-4-20_resize.jpg'\n",
    "test_img_path = \"WV3/out_red.tiff\"\n",
    "\n",
    "sliced_pred_result = get_sliced_prediction(\n",
    "    test_img_path,\n",
    "    detection_model, \n",
    "    slice_width=width, \n",
    "    slice_height=height\n",
    ")\n",
    "\n"
   ]
  },
  {
   "cell_type": "code",
   "execution_count": null,
   "id": "de18f388-6b40-41d9-b9e6-cf58d03a8219",
   "metadata": {},
   "outputs": [],
   "source": [
    "sliced_pred_result.object_prediction_list"
   ]
  },
  {
   "cell_type": "code",
   "execution_count": 10,
   "id": "06950b16-6a9d-4a8f-9639-d469c11cc2fd",
   "metadata": {},
   "outputs": [
    {
     "data": {
      "text/plain": [
       "{'image': array([[[ 75,  75,  59],\n",
       "         [ 75,  75,  59],\n",
       "         [ 76,  76,  60],\n",
       "         ...,\n",
       "         [ 85,  81,  70],\n",
       "         [ 95,  90,  79],\n",
       "         [ 91,  86,  75]],\n",
       " \n",
       "        [[ 80,  79,  64],\n",
       "         [ 73,  74,  57],\n",
       "         [ 59,  64,  44],\n",
       "         ...,\n",
       "         [ 68,  67,  54],\n",
       "         [ 90,  85,  75],\n",
       "         [ 82,  79,  67]],\n",
       " \n",
       "        [[ 65,  68,  49],\n",
       "         [ 68,  70,  53],\n",
       "         [ 74,  75,  58],\n",
       "         ...,\n",
       "         [ 57,  59,  44],\n",
       "         [ 67,  67,  53],\n",
       "         [ 75,  73,  60]],\n",
       " \n",
       "        ...,\n",
       " \n",
       "        [[ 77,  75,  58],\n",
       "         [ 86,  82,  68],\n",
       "         [ 94,  88,  74],\n",
       "         ...,\n",
       "         [ 70,  73,  54],\n",
       "         [ 64,  69,  47],\n",
       "         [ 67,  71,  50]],\n",
       " \n",
       "        [[ 87,  83,  68],\n",
       "         [ 96,  90,  76],\n",
       "         [100,  94,  80],\n",
       "         ...,\n",
       "         [ 73,  75,  56],\n",
       "         [ 69,  72,  52],\n",
       "         [ 74,  76,  57]],\n",
       " \n",
       "        [[ 91,  86,  72],\n",
       "         [102,  95,  82],\n",
       "         [100,  93,  80],\n",
       "         ...,\n",
       "         [ 76,  78,  59],\n",
       "         [ 73,  76,  56],\n",
       "         [ 70,  73,  53]]], dtype=uint8),\n",
       " 'elapsed_time': 0.20813655853271484}"
      ]
     },
     "execution_count": 10,
     "metadata": {},
     "output_type": "execute_result"
    }
   ],
   "source": [
    "viz_path = \"test_result\"\n",
    "test_img_name = \"WV3_red_original_model\"\n",
    "\n",
    "\n",
    "visualize_object_predictions(\n",
    "    image=np.ascontiguousarray(sliced_pred_result.image),\n",
    "    object_prediction_list=sliced_pred_result.object_prediction_list,\n",
    "    rect_th=1,\n",
    "    text_size=0.3,\n",
    "    text_th=1,\n",
    "    color=(0, 0, 0),\n",
    "    output_dir=viz_path,\n",
    "    file_name=test_img_name + \"_sliced_pred_result\",\n",
    "    export_format=\"png\",\n",
    ")"
   ]
  },
  {
   "cell_type": "code",
   "execution_count": 15,
   "id": "2d9dc4c6-8833-4569-a441-6034ce60d61c",
   "metadata": {},
   "outputs": [
    {
     "data": {
      "text/plain": [
       "'test_sliced_pred_result'"
      ]
     },
     "execution_count": 15,
     "metadata": {},
     "output_type": "execute_result"
    }
   ],
   "source": [
    "test_img_name + \"_sliced_pred_result\""
   ]
  }
 ],
 "metadata": {
  "kernelspec": {
   "display_name": "Python 3 (ipykernel)",
   "language": "python",
   "name": "python3"
  },
  "language_info": {
   "codemirror_mode": {
    "name": "ipython",
    "version": 3
   },
   "file_extension": ".py",
   "mimetype": "text/x-python",
   "name": "python",
   "nbconvert_exporter": "python",
   "pygments_lexer": "ipython3",
   "version": "3.8.13"
  }
 },
 "nbformat": 4,
 "nbformat_minor": 5
}
